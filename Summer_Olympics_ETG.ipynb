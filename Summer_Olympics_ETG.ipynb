{
  "nbformat": 4,
  "nbformat_minor": 0,
  "metadata": {
    "colab": {
      "name": "Summer Olympics ETG.ipynb",
      "provenance": [],
      "collapsed_sections": [],
      "authorship_tag": "ABX9TyOzMRwoAVNnuoPB24bNEoFX",
      "include_colab_link": true
    },
    "kernelspec": {
      "display_name": "Python 3",
      "name": "python3"
    },
    "language_info": {
      "name": "python"
    }
  },
  "cells": [
    {
      "cell_type": "markdown",
      "metadata": {
        "id": "view-in-github",
        "colab_type": "text"
      },
      "source": [
        "<a href=\"https://colab.research.google.com/github/Vinayak899/Summer_Olympics_ETG/blob/main/Summer_Olympics_ETG.ipynb\" target=\"_parent\"><img src=\"https://colab.research.google.com/assets/colab-badge.svg\" alt=\"Open In Colab\"/></a>"
      ]
    },
    {
      "cell_type": "code",
      "metadata": {
        "id": "2Cg4nKw8_pkM"
      },
      "source": [
        "import pandas as pd\n",
        "import numpy\n",
        "df=pd.read_csv('summer.csv')"
      ],
      "execution_count": 34,
      "outputs": []
    },
    {
      "cell_type": "markdown",
      "metadata": {
        "id": "q5TiXTUu-s8n"
      },
      "source": [
        "**Summer Olympics Data Analysis Assignment**"
      ]
    },
    {
      "cell_type": "markdown",
      "metadata": {
        "id": "SHQL_Vus-_zS"
      },
      "source": [
        "1. In how many cities Summer Olympics is held so far?"
      ]
    },
    {
      "cell_type": "code",
      "metadata": {
        "colab": {
          "base_uri": "https://localhost:8080/"
        },
        "id": "xvOPXa8u-pX3",
        "outputId": "34695e18-3966-48c5-fc40-fc0bbc067554"
      },
      "source": [
        "print(\"Summer Olympics is held in\",len(df[\"City\"].unique()),\"different cities.\")"
      ],
      "execution_count": 35,
      "outputs": [
        {
          "output_type": "stream",
          "name": "stdout",
          "text": [
            "Summer Olympics is held in 14 different cities.\n"
          ]
        }
      ]
    },
    {
      "cell_type": "markdown",
      "metadata": {
        "id": "ZF_DgtWHDeXv"
      },
      "source": [
        "2 Which sport is having most number of Gold Medals so far? (Top 5)"
      ]
    },
    {
      "cell_type": "code",
      "metadata": {
        "colab": {
          "base_uri": "https://localhost:8080/",
          "height": 400
        },
        "id": "kamvo8IPDg6n",
        "outputId": "b6aeb95b-7e11-4b84-c17f-9eb854ce9e98"
      },
      "source": [
        "lst=[]\n",
        "data=df.values\n",
        "for sports in df[\"Sport\"].unique():\n",
        "  gold_medals=0\n",
        "  for i in range(len(data)):\n",
        "    if(data[i][2]==sports):\n",
        "      if(data[i][8]==\"Gold\"):\n",
        "        gold_medals+=1\n",
        "  lst.append([sports,gold_medals])\n",
        "pd.DataFrame(lst,columns=[\"Sport\",\"Gold Medals\"]).sort_values(by=\"Gold Medals\",ascending=False).head().plot.bar(x=\"Sport\",y=\"Gold Medals\",figsize=(5,5))"
      ],
      "execution_count": null,
      "outputs": [
        {
          "output_type": "execute_result",
          "data": {
            "text/plain": [
              "<matplotlib.axes._subplots.AxesSubplot at 0x7f0d9b96f810>"
            ]
          },
          "metadata": {},
          "execution_count": 31
        },
        {
          "output_type": "display_data",
          "data": {
            "image/png": "[encoded data removed]",
            "text/plain": [
              "<Figure size 360x360 with 1 Axes>"
            ]
          },
          "metadata": {
            "needs_background": "light"
          }
        }
      ]
    },
    {
      "cell_type": "markdown",
      "metadata": {
        "id": "SLuWepoGJZ0Z"
      },
      "source": [
        "3. Which sport is having most number of medals so far? (Top 5)"
      ]
    },
    {
      "cell_type": "code",
      "metadata": {
        "colab": {
          "base_uri": "https://localhost:8080/",
          "height": 400
        },
        "id": "k9BIKrqGJf1f",
        "outputId": "8b2e0342-10ac-4e25-cb45-bd407c646eea"
      },
      "source": [
        "lst_medals=[]\n",
        "data_medals=df.values\n",
        "for sports in df[\"Sport\"].unique():\n",
        "  medals=0\n",
        "  for i in range(len(data_medals)):\n",
        "    if(data_medals[i][2]==sports):\n",
        "      if(data_medals[i][8]!=\"nan\"):\n",
        "        medals+=1\n",
        "  lst_medals.append([sports,medals])\n",
        "pd.DataFrame(lst_medals,columns=[\"Sport\",\"Medals\"]).sort_values(by=\"Medals\",ascending=False).head().plot.bar(x=\"Sport\",y=\"Medals\",figsize=(5,5))"
      ],
      "execution_count": null,
      "outputs": [
        {
          "output_type": "execute_result",
          "data": {
            "text/plain": [
              "<matplotlib.axes._subplots.AxesSubplot at 0x7f0d9c020210>"
            ]
          },
          "metadata": {},
          "execution_count": 32
        },
        {
          "output_type": "display_data",
          "data": {
            "image/png": "[encoded data removed]",
            "text/plain": [
              "<Figure size 360x360 with 1 Axes>"
            ]
          },
          "metadata": {
            "needs_background": "light"
          }
        }
      ]
    },
    {
      "cell_type": "markdown",
      "metadata": {
        "id": "jJ98j3INLpfx"
      },
      "source": [
        "4. Which player has won most number of medals? (Top 5)"
      ]
    },
    {
      "cell_type": "code",
      "metadata": {
        "colab": {
          "base_uri": "https://localhost:8080/",
          "height": 459
        },
        "id": "KN1DTt6GMBbH",
        "outputId": "aea5063c-3e5d-4402-a1d4-dd38362d5d0b"
      },
      "source": [
        "lst_player=[]\n",
        "data_player=df.values\n",
        "for player in df[\"Athlete\"].unique():\n",
        "  medals=0\n",
        "  for i in range(len(data_player)):\n",
        "    if(data_player[i][4]==player):\n",
        "      if(data_player[i][8]!=\"nan\"):\n",
        "        medals+=1\n",
        "  lst_player.append([player,medals])\n",
        "pd.DataFrame(lst_player,columns=[\"Player\",\"Medals\"]).sort_values(by=\"Medals\",ascending=False).head().plot.bar(x=\"Player\",y=\"Medals\",figsize=(5,5))"
      ],
      "execution_count": null,
      "outputs": [
        {
          "output_type": "execute_result",
          "data": {
            "text/plain": [
              "<matplotlib.axes._subplots.AxesSubplot at 0x7f0d9c2e05d0>"
            ]
          },
          "metadata": {},
          "execution_count": 33
        },
        {
          "output_type": "display_data",
          "data": {
            "image/png": "[encoded data removed]",
            "text/plain": [
              "<Figure size 360x360 with 1 Axes>"
            ]
          },
          "metadata": {
            "needs_background": "light"
          }
        }
      ]
    },
    {
      "cell_type": "markdown",
      "metadata": {
        "id": "v6E3JVwFODkq"
      },
      "source": [
        "5. Which player has won most number Gold Medals of medals? (Top 5)"
      ]
    },
    {
      "cell_type": "code",
      "metadata": {
        "colab": {
          "base_uri": "https://localhost:8080/",
          "height": 480
        },
        "id": "8YvYng31OFty",
        "outputId": "1feb56e2-8cc1-4851-819a-acd52dafec2d"
      },
      "source": [
        "lst_goldplayer=[]\n",
        "data_goldplayer=df.values\n",
        "# for each athelete checking the no of gold medals\n",
        "for player in df[\"Athlete\"].unique():\n",
        "  goldmedals=0\n",
        "  for i in range(len(data_goldplayer)):\n",
        "    if(data_goldplayer[i][4]==player):\n",
        "      if(data_goldplayer[i][8]==\"Gold\"):\n",
        "        goldmedals+=1\n",
        "  lst_goldplayer.append([player,goldmedals])\n",
        "pd.DataFrame(lst_goldplayer,columns=[\"Player\",\"Gold Medals\"]).sort_values(by=\"Gold Medals\",ascending=False).head().plot.bar(x=\"Player\",y=\"Gold Medals\",figsize=(5,5))"
      ],
      "execution_count": null,
      "outputs": [
        {
          "data": {
            "text/plain": [
              "<matplotlib.axes._subplots.AxesSubplot at 0x7f8e8baa0450>"
            ]
          },
          "execution_count": 85,
          "metadata": {},
          "output_type": "execute_result"
        },
        {
          "data": {
            "image/png": "[encoded data removed]",
            "text/plain": [
              "<Figure size 360x360 with 1 Axes>"
            ]
          },
          "metadata": {},
          "output_type": "display_data"
        }
      ]
    },
    {
      "cell_type": "markdown",
      "metadata": {
        "id": "FmKygzWdPrJN"
      },
      "source": [
        "6. In which year India won first Gold Medal in Summer Olympics?"
      ]
    },
    {
      "cell_type": "code",
      "metadata": {
        "colab": {
          "base_uri": "https://localhost:8080/"
        },
        "id": "o_zQWpO7Puci",
        "outputId": "72201889-3317-429e-c11e-5437e820d2e7"
      },
      "source": [
        "# data set for the country india\n",
        "df_india=df[df[\"Country\"]==\"IND\"]\n",
        "data_india=df_india.values\n",
        "gold_india_lst=[]\n",
        "# Checking for each year how many medals they have won\n",
        "for year in df_india[\"Year\"].unique():\n",
        "  gold_india=0\n",
        "  for i in range(len(data_india)):\n",
        "    if(data_india[i][0]==year):\n",
        "      if(data_india[i][8]==\"Gold\"):\n",
        "        gold_india+=1\n",
        "  gold_india_lst.append([year,gold_india])\n",
        "# using loop to check which year they have got the first medal\n",
        "for item in gold_india_lst:\n",
        "  if(item[1]>0):\n",
        "    year=item[0]\n",
        "    break\n",
        "print(\"India has won its first gold medal in the year\",year)"
      ],
      "execution_count": 57,
      "outputs": [
        {
          "output_type": "stream",
          "name": "stdout",
          "text": [
            "India has won its first gold medal in the year 1928\n"
          ]
        }
      ]
    },
    {
      "cell_type": "markdown",
      "metadata": {
        "id": "z-VDDoKbThH2"
      },
      "source": [
        "7. Which event is most popular in terms on number of players? (Top 5)"
      ]
    },
    {
      "cell_type": "code",
      "metadata": {
        "colab": {
          "base_uri": "https://localhost:8080/",
          "height": 469
        },
        "id": "qaJ08akLTo-A",
        "outputId": "9139d4d6-626e-4102-bea7-2c1cc4044d4c"
      },
      "source": [
        "events=df.values\n",
        "events_popular=[]\n",
        "# There was a player for each event as there was no null value for athelete table\n",
        "for event in df[\"Event\"].unique():\n",
        "  no_players=0\n",
        "  for i in range(len(events)):\n",
        "    if(events[i][7]==event):\n",
        "      no_players+=1\n",
        "  events_popular.append([event,no_players])\n",
        "pd.DataFrame(events_popular,columns=[\"Event\",\"No of Players\"]).sort_values(by=\"No of Players\",ascending=False).head().plot.bar(x=\"Event\",y=\"No of Players\",figsize=(5,5))"
      ],
      "execution_count": 38,
      "outputs": [
        {
          "output_type": "execute_result",
          "data": {
            "text/plain": [
              "<matplotlib.axes._subplots.AxesSubplot at 0x7f0d9b38ec50>"
            ]
          },
          "metadata": {},
          "execution_count": 38
        },
        {
          "output_type": "display_data",
          "data": {
            "image/png": "[encoded data removed]",
            "text/plain": [
              "<Figure size 360x360 with 1 Axes>"
            ]
          },
          "metadata": {
            "needs_background": "light"
          }
        }
      ]
    },
    {
      "cell_type": "markdown",
      "metadata": {
        "id": "zrzOmq0MV-n_"
      },
      "source": [
        "8. Which sport is having most female Gold Medalists? (Top 5)"
      ]
    },
    {
      "cell_type": "code",
      "metadata": {
        "id": "voo7L9_PiTS7",
        "colab": {
          "base_uri": "https://localhost:8080/",
          "height": 400
        },
        "outputId": "9ed09e48-627d-409e-d25e-015849c7ed99"
      },
      "source": [
        "data_female=df[df[\"Gender\"]==\"Women\"]\n",
        "# Creating a data set which will be having only female gold medalists\n",
        "data_gold=data_female[data_female[\"Medal\"]==\"Gold\"] \n",
        "# creating a array of that data\n",
        "data=data_gold.values\n",
        "female_gold_sport=[]\n",
        "# Checking for each sport the no of atheletes we are having because we have created the set for female gold medalists\n",
        "for sport in data_gold[\"Sport\"].unique():\n",
        "  sport_gold=0\n",
        "  for i in range(len(data)):\n",
        "    if(data[i][2]==sport):\n",
        "        sport_gold+=1\n",
        "  female_gold_sport.append([sport,sport_gold])\n",
        "pd.DataFrame(female_gold_sport,columns=[\"Sport\",\"No of Female Gold Medalists\"]).sort_values(by=\"No of Female Gold Medalists\",ascending=False).head().plot.bar(x=\"Sport\",y=\"No of Female Gold Medalists\",figsize=(5,5))"
      ],
      "execution_count": 54,
      "outputs": [
        {
          "output_type": "execute_result",
          "data": {
            "text/plain": [
              "<matplotlib.axes._subplots.AxesSubplot at 0x7f0d96b3bc90>"
            ]
          },
          "metadata": {},
          "execution_count": 54
        },
        {
          "output_type": "display_data",
          "data": {
            "image/png": "[encoded data removed]",
            "text/plain": [
              "<Figure size 360x360 with 1 Axes>"
            ]
          },
          "metadata": {
            "needs_background": "light"
          }
        }
      ]
    }
  ]
}
