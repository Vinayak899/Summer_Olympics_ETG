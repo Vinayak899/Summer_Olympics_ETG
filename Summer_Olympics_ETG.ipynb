{
  "nbformat": 4,
  "nbformat_minor": 0,
  "metadata": {
    "colab": {
      "name": "Summer Olympics ETG.ipynb",
      "provenance": [],
      "collapsed_sections": [],
      "authorship_tag": "ABX9TyOnbnJNDtlffVs5s0ZZ8pGD",
      "include_colab_link": true
    },
    "kernelspec": {
      "display_name": "Python 3",
      "name": "python3"
    },
    "language_info": {
      "name": "python"
    },
    "accelerator": "GPU"
  },
  "cells": [
    {
      "cell_type": "markdown",
      "metadata": {
        "id": "view-in-github",
        "colab_type": "text"
      },
      "source": [
        "<a href=\"https://colab.research.google.com/github/Vinayak899/Summer_Olympics_ETG/blob/main/Summer_Olympics_ETG.ipynb\" target=\"_parent\"><img src=\"https://colab.research.google.com/assets/colab-badge.svg\" alt=\"Open In Colab\"/></a>"
      ]
    },
    {
      "cell_type": "code",
      "metadata": {
        "colab": {
          "base_uri": "https://localhost:8080/"
        },
        "id": "__6yElLmEoX1",
        "outputId": "b12c6f68-3f67-426e-b51c-f90fc32bde4f"
      },
      "source": [
        "!git clone https://github.com/Vinayak899/Skill-India-AI-ML-Scholarship"
      ],
      "execution_count": 11,
      "outputs": [
        {
          "output_type": "stream",
          "name": "stdout",
          "text": [
            "fatal: destination path 'Skill-India-AI-ML-Scholarship' already exists and is not an empty directory.\n"
          ]
        }
      ]
    },
    {
      "cell_type": "code",
      "metadata": {
        "id": "2Cg4nKw8_pkM"
      },
      "source": [
        "import pandas as pd\n",
        "import numpy\n",
        "df=pd.read_csv(\"/content/Skill-India-AI-ML-Scholarship/Summer Olympics/summer.csv\")"
      ],
      "execution_count": 12,
      "outputs": []
    },
    {
      "cell_type": "markdown",
      "metadata": {
        "id": "34KPPEDj16FV"
      },
      "source": [
        "Sir, I have used the same file summer.csv but in my excel it is showing 31116 rows but when im loading it in the collab the rows it is showing is only 12541. I really dont know whats the issue, due to which some of my answers are coming out to be wrong (Q1 It should be 22)"
      ]
    },
    {
      "cell_type": "markdown",
      "metadata": {
        "id": "q5TiXTUu-s8n"
      },
      "source": [
        "**Summer Olympics Data Analysis Assignment**"
      ]
    },
    {
      "cell_type": "markdown",
      "metadata": {
        "id": "SHQL_Vus-_zS"
      },
      "source": [
        "**1)** In how many cities Summer Olympics is held so far?"
      ]
    },
    {
      "cell_type": "code",
      "metadata": {
        "colab": {
          "base_uri": "https://localhost:8080/"
        },
        "id": "xvOPXa8u-pX3",
        "outputId": "3b943bf1-e96f-4b96-cf15-c842b72e6669"
      },
      "source": [
        "print(\"Summer Olympics is held in\",len(df[\"City\"].unique()),\"different cities.\")"
      ],
      "execution_count": 13,
      "outputs": [
        {
          "output_type": "stream",
          "name": "stdout",
          "text": [
            "Summer Olympics is held in 22 different cities.\n"
          ]
        }
      ]
    },
    {
      "cell_type": "markdown",
      "metadata": {
        "id": "ZF_DgtWHDeXv"
      },
      "source": [
        "**2)** Which sport is having most number of Gold Medals so far? (Top 5)"
      ]
    },
    {
      "cell_type": "code",
      "metadata": {
        "colab": {
          "base_uri": "https://localhost:8080/",
          "height": 400
        },
        "id": "kamvo8IPDg6n",
        "outputId": "dbce3eff-89db-4af8-c4c6-43fb018950db"
      },
      "source": [
        "lst=[]\n",
        "data=df.values\n",
        "for sports in df[\"Sport\"].unique():\n",
        "  gold_medals=0\n",
        "  for i in range(len(data)):\n",
        "    if(data[i][2]==sports):\n",
        "      if(data[i][8]==\"Gold\"):\n",
        "        gold_medals+=1\n",
        "  lst.append([sports,gold_medals])\n",
        "pd.DataFrame(lst,columns=[\"Sport\",\"Gold Medals\"]).sort_values(by=\"Gold Medals\",ascending=False).head().plot.bar(x=\"Sport\",y=\"Gold Medals\",figsize=(5,5))"
      ],
      "execution_count": 14,
      "outputs": [
        {
          "output_type": "execute_result",
          "data": {
            "text/plain": [
              "<matplotlib.axes._subplots.AxesSubplot at 0x7f5c4cf78ad0>"
            ]
          },
          "metadata": {},
          "execution_count": 14
        },
        {
          "output_type": "display_data",
          "data": {
            "image/png": "[encoded data removed]",
            "text/plain": [
              "<Figure size 360x360 with 1 Axes>"
            ]
          },
          "metadata": {
            "needs_background": "light"
          }
        }
      ]
    },
    {
      "cell_type": "markdown",
      "metadata": {
        "id": "SLuWepoGJZ0Z"
      },
      "source": [
        "**3)** Which sport is having most number of medals so far? (Top 5)"
      ]
    },
    {
      "cell_type": "code",
      "metadata": {
        "colab": {
          "base_uri": "https://localhost:8080/",
          "height": 400
        },
        "id": "k9BIKrqGJf1f",
        "outputId": "93dc8ecd-c8fb-41b2-acf2-0132e325d39e"
      },
      "source": [
        "lst_medals=[]\n",
        "data_medals=df.values\n",
        "for sports in df[\"Sport\"].unique():\n",
        "  medals=0\n",
        "  for i in range(len(data_medals)):\n",
        "    if(data_medals[i][2]==sports):\n",
        "      if(data_medals[i][8]!=\"nan\"):\n",
        "        medals+=1\n",
        "  lst_medals.append([sports,medals])\n",
        "pd.DataFrame(lst_medals,columns=[\"Sport\",\"Medals\"]).sort_values(by=\"Medals\",ascending=False).head().plot.bar(x=\"Sport\",y=\"Medals\",figsize=(5,5))"
      ],
      "execution_count": null,
      "outputs": [
        {
          "output_type": "execute_result",
          "data": {
            "text/plain": [
              "<matplotlib.axes._subplots.AxesSubplot at 0x7f5c4cd47a10>"
            ]
          },
          "metadata": {},
          "execution_count": 8
        },
        {
          "output_type": "display_data",
          "data": {
            "image/png": "[encoded data removed]",
            "text/plain": [
              "<Figure size 360x360 with 1 Axes>"
            ]
          },
          "metadata": {
            "needs_background": "light"
          }
        }
      ]
    },
    {
      "cell_type": "markdown",
      "metadata": {
        "id": "jJ98j3INLpfx"
      },
      "source": [
        "**4)** Which player has won most number of medals? (Top 5)"
      ]
    },
    {
      "cell_type": "code",
      "metadata": {
        "colab": {
          "base_uri": "https://localhost:8080/",
          "height": 459
        },
        "id": "KN1DTt6GMBbH",
        "outputId": "30104b9a-e0cb-4cef-f015-dab85e6d8fa5"
      },
      "source": [
        "lst_player=[]\n",
        "data_player=df.values\n",
        "for player in df[\"Athlete\"].unique():\n",
        "  medals=0\n",
        "  for i in range(len(data_player)):\n",
        "    if(data_player[i][4]==player):\n",
        "      if(data_player[i][8]!=\"nan\"):\n",
        "        medals+=1\n",
        "  lst_player.append([player,medals])\n",
        "pd.DataFrame(lst_player,columns=[\"Player\",\"Medals\"]).sort_values(by=\"Medals\",ascending=False).head().plot.bar(x=\"Player\",y=\"Medals\",figsize=(5,5))"
      ],
      "execution_count": null,
      "outputs": [
        {
          "output_type": "execute_result",
          "data": {
            "text/plain": [
              "<matplotlib.axes._subplots.AxesSubplot at 0x7f5c4c7369d0>"
            ]
          },
          "metadata": {},
          "execution_count": 9
        },
        {
          "output_type": "display_data",
          "data": {
            "image/png": "[encoded data removed]",
            "text/plain": [
              "<Figure size 360x360 with 1 Axes>"
            ]
          },
          "metadata": {
            "needs_background": "light"
          }
        }
      ]
    },
    {
      "cell_type": "markdown",
      "metadata": {
        "id": "v6E3JVwFODkq"
      },
      "source": [
        "**5)** Which player has won most number Gold Medals of medals? (Top 5)"
      ]
    },
    {
      "cell_type": "code",
      "metadata": {
        "colab": {
          "base_uri": "https://localhost:8080/",
          "height": 427
        },
        "id": "8YvYng31OFty",
        "outputId": "8c741881-69b7-4a6b-e006-926557e89a57"
      },
      "source": [
        "lst_goldplayer=[]\n",
        "data_goldplayer=df.values\n",
        "# for each athelete checking the no of gold medals\n",
        "for player in df[\"Athlete\"].unique():\n",
        "  goldmedals=0\n",
        "  for i in range(len(data_goldplayer)):\n",
        "    if(data_goldplayer[i][4]==player and data_goldplayer[i][8]==\"Gold\"):\n",
        "      goldmedals+=1\n",
        "  lst_goldplayer.append([player,goldmedals])\n",
        "pd.DataFrame(lst_goldplayer,columns=[\"Player\",\"Gold Medals\"]).sort_values(by=\"Gold Medals\",ascending=False).head().plot.bar(x=\"Player\",y=\"Gold Medals\",figsize=(5,5))"
      ],
      "execution_count": 17,
      "outputs": [
        {
          "output_type": "execute_result",
          "data": {
            "text/plain": [
              "<matplotlib.axes._subplots.AxesSubplot at 0x7f5c4c3ccf50>"
            ]
          },
          "metadata": {},
          "execution_count": 17
        },
        {
          "output_type": "display_data",
          "data": {
            "image/png": "[encoded data removed]",
            "text/plain": [
              "<Figure size 360x360 with 1 Axes>"
            ]
          },
          "metadata": {
            "needs_background": "light"
          }
        }
      ]
    },
    {
      "cell_type": "markdown",
      "metadata": {
        "id": "FmKygzWdPrJN"
      },
      "source": [
        "**6)** In which year India won first Gold Medal in Summer Olympics?"
      ]
    },
    {
      "cell_type": "code",
      "metadata": {
        "id": "o_zQWpO7Puci",
        "colab": {
          "base_uri": "https://localhost:8080/"
        },
        "outputId": "fe5887de-7e6b-4924-ce81-c5727062af4c"
      },
      "source": [
        "# data set for the country india\n",
        "df_india=df[df[\"Country\"]==\"IND\"]\n",
        "data_india=df_india.values\n",
        "gold_india_lst=[]\n",
        "# Checking for each year how many medals they have won\n",
        "for year in df_india[\"Year\"].unique():\n",
        "  gold_india=0\n",
        "  for i in range(len(data_india)):\n",
        "    if(data_india[i][0]==year):\n",
        "      if(data_india[i][8]==\"Gold\"):\n",
        "        gold_india+=1\n",
        "  gold_india_lst.append([year,gold_india])\n",
        "# using loop to check which year they have got the first medal\n",
        "for item in gold_india_lst:\n",
        "  if(item[1]>0):\n",
        "    year=item[0]\n",
        "    break\n",
        "print(\"India has won its first gold medal in the year\",year)"
      ],
      "execution_count": 18,
      "outputs": [
        {
          "output_type": "stream",
          "name": "stdout",
          "text": [
            "India has won its first gold medal in the year 1928\n"
          ]
        }
      ]
    },
    {
      "cell_type": "markdown",
      "metadata": {
        "id": "z-VDDoKbThH2"
      },
      "source": [
        "**7)** Which event is most popular in terms on number of players? (Top 5)"
      ]
    },
    {
      "cell_type": "code",
      "metadata": {
        "id": "qaJ08akLTo-A",
        "colab": {
          "base_uri": "https://localhost:8080/",
          "height": 432
        },
        "outputId": "423a5c8c-8a16-4ff7-b5c4-3f91a141d946"
      },
      "source": [
        "events=df.values\n",
        "events_popular=[]\n",
        "# There was a player for each event as there was no null value for athelete table\n",
        "for event in df[\"Event\"].unique():\n",
        "  no_players=0\n",
        "  for i in range(len(events)):\n",
        "    if(events[i][7]==event):\n",
        "      no_players+=1\n",
        "  events_popular.append([event,no_players])\n",
        "pd.DataFrame(events_popular,columns=[\"Event\",\"No of Players\"]).sort_values(by=\"No of Players\",ascending=False).head().plot.bar(x=\"Event\",y=\"No of Players\",figsize=(5,5))"
      ],
      "execution_count": 19,
      "outputs": [
        {
          "output_type": "execute_result",
          "data": {
            "text/plain": [
              "<matplotlib.axes._subplots.AxesSubplot at 0x7f5c4d7e5490>"
            ]
          },
          "metadata": {},
          "execution_count": 19
        },
        {
          "output_type": "display_data",
          "data": {
            "image/png": "[encoded data removed]",
            "text/plain": [
              "<Figure size 360x360 with 1 Axes>"
            ]
          },
          "metadata": {
            "needs_background": "light"
          }
        }
      ]
    },
    {
      "cell_type": "markdown",
      "metadata": {
        "id": "zrzOmq0MV-n_"
      },
      "source": [
        "**8)** Which sport is having most female Gold Medalists? (Top 5)"
      ]
    },
    {
      "cell_type": "code",
      "metadata": {
        "id": "voo7L9_PiTS7",
        "colab": {
          "base_uri": "https://localhost:8080/",
          "height": 400
        },
        "outputId": "d0009af5-da53-4296-f570-505d66aea8e7"
      },
      "source": [
        "data_female=df[df[\"Gender\"]==\"Women\"]\n",
        "# Creating a data set which will be having only female gold medalists\n",
        "data_gold=data_female[data_female[\"Medal\"]==\"Gold\"] \n",
        "# creating a array of that data\n",
        "data=data_gold.values\n",
        "female_gold_sport=[]\n",
        "# Checking for each sport the no of atheletes we are having because we have created the set for female gold medalists\n",
        "for sport in data_gold[\"Sport\"].unique():\n",
        "  sport_gold=0\n",
        "  for i in range(len(data)):\n",
        "    if(data[i][2]==sport):\n",
        "        sport_gold+=1\n",
        "  female_gold_sport.append([sport,sport_gold])\n",
        "pd.DataFrame(female_gold_sport,columns=[\"Sport\",\"No of Female Gold Medalists\"]).sort_values(by=\"No of Female Gold Medalists\",ascending=False).head().plot.bar(x=\"Sport\",y=\"No of Female Gold Medalists\",figsize=(5,5))"
      ],
      "execution_count": 20,
      "outputs": [
        {
          "output_type": "execute_result",
          "data": {
            "text/plain": [
              "<matplotlib.axes._subplots.AxesSubplot at 0x7f5c4bf32110>"
            ]
          },
          "metadata": {},
          "execution_count": 20
        },
        {
          "output_type": "display_data",
          "data": {
            "image/png": "[encoded data removed]",
            "text/plain": [
              "<Figure size 360x360 with 1 Axes>"
            ]
          },
          "metadata": {
            "needs_background": "light"
          }
        }
      ]
    }
  ]
}